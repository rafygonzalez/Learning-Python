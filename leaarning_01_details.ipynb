{
 "cells": [
  {
   "cell_type": "markdown",
   "id": "41a5d5ec-e84a-4b48-a4e0-56513be6a4b9",
   "metadata": {},
   "source": [
    "# En Python, la función range() se usa comúnmente en bucles for para iterar sobre una secuencia de números. Genera una secuencia de números basada en los parámetros especificados y devuelve un objeto iterable."
   ]
  },
  {
   "cell_type": "markdown",
   "id": "ec80446b-88a7-4b9a-87e1-c0702ba2fd7e",
   "metadata": {},
   "source": [
    "### range(stop): Genera una secuencia de números que van desde 0 hasta el que decidamos. Por ejemplo:"
   ]
  },
  {
   "cell_type": "code",
   "execution_count": 2,
   "id": "2bfeca8c-eb83-470e-9180-94d3ee1054fb",
   "metadata": {},
   "outputs": [
    {
     "name": "stdout",
     "output_type": "stream",
     "text": [
      "0\n",
      "1\n",
      "2\n",
      "3\n",
      "4\n"
     ]
    }
   ],
   "source": [
    "for i in range(5):\n",
    "    print(i)"
   ]
  },
  {
   "cell_type": "markdown",
   "id": "050af82d-067b-4cbd-bd24-d6b426973d22",
   "metadata": {},
   "source": [
    "### range(start, stop): Genera una secuencia de números a partir del valor de inicio y hasta el valor de parada. Por ejemplo:"
   ]
  },
  {
   "cell_type": "code",
   "execution_count": 3,
   "id": "9151fceb-23d7-49fa-b71c-6cbef4e1f366",
   "metadata": {},
   "outputs": [
    {
     "name": "stdout",
     "output_type": "stream",
     "text": [
      "2\n",
      "3\n",
      "4\n",
      "5\n"
     ]
    }
   ],
   "source": [
    "for i in range(2, 6):\n",
    "    print(i)\n"
   ]
  },
  {
   "cell_type": "code",
   "execution_count": null,
   "id": "edab854b-ac02-4415-839b-a6984c57622d",
   "metadata": {},
   "outputs": [],
   "source": []
  }
 ],
 "metadata": {
  "kernelspec": {
   "display_name": "Python 3 (ipykernel)",
   "language": "python",
   "name": "python3"
  },
  "language_info": {
   "codemirror_mode": {
    "name": "ipython",
    "version": 3
   },
   "file_extension": ".py",
   "mimetype": "text/x-python",
   "name": "python",
   "nbconvert_exporter": "python",
   "pygments_lexer": "ipython3",
   "version": "3.10.9"
  }
 },
 "nbformat": 4,
 "nbformat_minor": 5
}
