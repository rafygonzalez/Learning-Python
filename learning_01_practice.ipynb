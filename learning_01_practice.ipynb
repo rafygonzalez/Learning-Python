{
 "cells": [
  {
   "cell_type": "code",
   "execution_count": 1,
   "id": "36f294f3-dcac-4f47-b7bc-d427d667a306",
   "metadata": {},
   "outputs": [
    {
     "name": "stdout",
     "output_type": "stream",
     "text": [
      "Error downloading image 1: Invalid URL '/images/branding/searchlogo/1x/googlelogo_desk_heirloom_color_150x55dp.gif': No scheme supplied. Perhaps you meant https:///images/branding/searchlogo/1x/googlelogo_desk_heirloom_color_150x55dp.gif?\n",
      "Image 2 downloaded successfully.\n",
      "Image 3 downloaded successfully.\n",
      "Image 4 downloaded successfully.\n",
      "Image 5 downloaded successfully.\n"
     ]
    }
   ],
   "source": [
    "import requests\n",
    "from bs4 import BeautifulSoup\n",
    "import os\n",
    "import urllib\n",
    "\n",
    "def download_images(query, num_images):\n",
    "    # Format the query for the Google Images URL\n",
    "    query = urllib.parse.quote_plus(query)\n",
    "    url = f\"https://www.google.com/search?q={query}&source=lnms&tbm=isch\"\n",
    "\n",
    "    # Send an HTTP GET request to the Google Images URL\n",
    "    response = requests.get(url)\n",
    "    soup = BeautifulSoup(response.content, \"html.parser\")\n",
    "\n",
    "    # Find all the image elements in the HTML response\n",
    "    images = soup.find_all(\"img\")\n",
    "\n",
    "    # Create a directory to save the downloaded images\n",
    "    if not os.path.exists(\"downloaded_images\"):\n",
    "        os.makedirs(\"downloaded_images\")\n",
    "\n",
    "    # Download the images\n",
    "    for i, image in enumerate(images[:num_images]):\n",
    "        image_url = image[\"src\"]\n",
    "        try:\n",
    "            response = requests.get(image_url, stream=True)\n",
    "            response.raise_for_status()\n",
    "            with open(f\"downloaded_images/image{i+1}.jpg\", \"wb\") as file:\n",
    "                for chunk in response.iter_content(chunk_size=8192):\n",
    "                    file.write(chunk)\n",
    "            print(f\"Image {i+1} downloaded successfully.\")\n",
    "        except requests.exceptions.RequestException as e:\n",
    "            print(f\"Error downloading image {i+1}: {e}\")\n",
    "\n",
    "# Example usage\n",
    "download_images(\"Coches en autopista que se les vea la placa\", 5)\n"
   ]
  },
  {
   "cell_type": "code",
   "execution_count": null,
   "id": "f21a6e79-aac6-457e-8567-f6db822a7381",
   "metadata": {},
   "outputs": [],
   "source": []
  }
 ],
 "metadata": {
  "kernelspec": {
   "display_name": "Python 3 (ipykernel)",
   "language": "python",
   "name": "python3"
  },
  "language_info": {
   "codemirror_mode": {
    "name": "ipython",
    "version": 3
   },
   "file_extension": ".py",
   "mimetype": "text/x-python",
   "name": "python",
   "nbconvert_exporter": "python",
   "pygments_lexer": "ipython3",
   "version": "3.10.9"
  }
 },
 "nbformat": 4,
 "nbformat_minor": 5
}
