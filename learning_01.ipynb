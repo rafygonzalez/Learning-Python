{
 "cells": [
  {
   "cell_type": "markdown",
   "id": "72b76477-3da3-443a-aacb-c26f67656357",
   "metadata": {},
   "source": [
    "# Binary Expression"
   ]
  },
  {
   "cell_type": "code",
   "execution_count": 16,
   "id": "09cd1e66-b889-470f-94c9-16657a0814fc",
   "metadata": {},
   "outputs": [],
   "source": [
    "result = 10 + 5"
   ]
  },
  {
   "cell_type": "code",
   "execution_count": 17,
   "id": "be6404a7-6bfb-49a5-9e65-2939ceeb9b64",
   "metadata": {},
   "outputs": [
    {
     "data": {
      "text/plain": [
       "15"
      ]
     },
     "execution_count": 17,
     "metadata": {},
     "output_type": "execute_result"
    }
   ],
   "source": [
    "result"
   ]
  },
  {
   "cell_type": "markdown",
   "id": "247c4d3e-648b-4270-8740-7eca99b2ee15",
   "metadata": {},
   "source": [
    "# Literal"
   ]
  },
  {
   "cell_type": "code",
   "execution_count": 18,
   "id": "d0d5b22a-e40a-40b6-be96-074ca1808320",
   "metadata": {},
   "outputs": [],
   "source": [
    "number = 42\n",
    "string = \"Hello, World!\"\n",
    "boolean = True\n",
    "null_value = None"
   ]
  },
  {
   "cell_type": "code",
   "execution_count": 19,
   "id": "946c4947-2886-4de1-b6d2-7f17802d06d3",
   "metadata": {},
   "outputs": [
    {
     "data": {
      "text/plain": [
       "42"
      ]
     },
     "execution_count": 19,
     "metadata": {},
     "output_type": "execute_result"
    }
   ],
   "source": [
    "number"
   ]
  },
  {
   "cell_type": "markdown",
   "id": "9149e93d-f821-492e-b0ca-c50efbfb4793",
   "metadata": {
    "tags": []
   },
   "source": [
    "# Expression Statement"
   ]
  },
  {
   "cell_type": "code",
   "execution_count": 20,
   "id": "bf8be39e-7054-4029-8a66-e623ebec5739",
   "metadata": {},
   "outputs": [],
   "source": [
    "x = 5\n",
    "y = 10"
   ]
  },
  {
   "cell_type": "markdown",
   "id": "78aa0db0-8e5c-4f11-bd1a-948d52a9edfb",
   "metadata": {},
   "source": [
    "# Identifier"
   ]
  },
  {
   "cell_type": "code",
   "execution_count": 21,
   "id": "d3349984-3465-46b6-a1ca-fcd5a30de884",
   "metadata": {},
   "outputs": [],
   "source": [
    "name = \"John\""
   ]
  },
  {
   "cell_type": "markdown",
   "id": "335ee095-d432-4d37-a597-fca9bd3fd509",
   "metadata": {},
   "source": [
    "# Variable Declaration"
   ]
  },
  {
   "cell_type": "code",
   "execution_count": 22,
   "id": "6f5e3698-3a6f-4221-b56f-f2940d3c2b7f",
   "metadata": {},
   "outputs": [],
   "source": [
    "x = 10"
   ]
  },
  {
   "cell_type": "markdown",
   "id": "7b02e2e2-e1c2-497b-a872-ad57cd28acae",
   "metadata": {},
   "source": [
    "# Update Expression"
   ]
  },
  {
   "cell_type": "code",
   "execution_count": 13,
   "id": "a3cd332a-7d58-4478-b95d-c7794b44180a",
   "metadata": {},
   "outputs": [],
   "source": [
    "counter = 0\n",
    "counter += 1"
   ]
  },
  {
   "cell_type": "code",
   "execution_count": 12,
   "id": "749960d1-e7d8-4817-97bc-3f1a8922e7a7",
   "metadata": {},
   "outputs": [
    {
     "data": {
      "text/plain": [
       "1"
      ]
     },
     "execution_count": 12,
     "metadata": {},
     "output_type": "execute_result"
    }
   ],
   "source": [
    "counter"
   ]
  },
  {
   "cell_type": "markdown",
   "id": "60f214a1-fa4e-4e4c-bbd3-ccd67bcf8231",
   "metadata": {},
   "source": [
    "# If Statement"
   ]
  },
  {
   "cell_type": "code",
   "execution_count": 10,
   "id": "92fdb83b-4112-427b-aefd-de89a1b87acc",
   "metadata": {},
   "outputs": [
    {
     "name": "stdout",
     "output_type": "stream",
     "text": [
      "x is less than or equal to 10\n"
     ]
    }
   ],
   "source": [
    "x = 5\n",
    "if x > 10:\n",
    "    print(\"x is greater than 10\")\n",
    "else:\n",
    "    print(\"x is less than or equal to 10\")"
   ]
  },
  {
   "cell_type": "markdown",
   "id": "d0662de4-86c9-48bd-803f-f29924c186d4",
   "metadata": {},
   "source": [
    "# Block Statement"
   ]
  },
  {
   "cell_type": "raw",
   "id": "cbffe3d2-d861-47b7-9fdf-46f46d3f3e03",
   "metadata": {},
   "source": [
    "if condition:\n",
    "    # block of code\n",
    "    statement1\n",
    "    statement2\n"
   ]
  },
  {
   "cell_type": "markdown",
   "id": "fe2e13f9-e16b-4a1d-891b-877335fbab1e",
   "metadata": {},
   "source": [
    "# Unary Expression"
   ]
  },
  {
   "cell_type": "markdown",
   "id": "ead31af8-afad-41ae-b6be-346c5513ca5b",
   "metadata": {},
   "source": [
    "#### Realiza operaciones como negación, incremento/decremento o negación lógica."
   ]
  },
  {
   "cell_type": "code",
   "execution_count": 23,
   "id": "18522942-fa8d-47ce-814b-98a20158f5cb",
   "metadata": {},
   "outputs": [],
   "source": [
    "x = -5"
   ]
  },
  {
   "cell_type": "code",
   "execution_count": 24,
   "id": "ecd8ffc5-e563-43bd-bde4-7f0ab20b1fb2",
   "metadata": {},
   "outputs": [
    {
     "data": {
      "text/plain": [
       "-5"
      ]
     },
     "execution_count": 24,
     "metadata": {},
     "output_type": "execute_result"
    }
   ],
   "source": [
    "x"
   ]
  },
  {
   "cell_type": "markdown",
   "id": "c1a5f24b-a102-4bdf-a54a-48acb01536e6",
   "metadata": {},
   "source": [
    "# For Statement"
   ]
  },
  {
   "cell_type": "code",
   "execution_count": 26,
   "id": "785cbab0-b088-44e8-b042-639133db3876",
   "metadata": {},
   "outputs": [
    {
     "name": "stdout",
     "output_type": "stream",
     "text": [
      "0\n",
      "1\n",
      "2\n",
      "3\n",
      "4\n"
     ]
    }
   ],
   "source": [
    "for i in range(5):\n",
    "    print(i)"
   ]
  },
  {
   "cell_type": "markdown",
   "id": "5f21c911-2359-41dc-84a0-e054f86db283",
   "metadata": {},
   "source": [
    "#### Iterando sobre elementos de una lista:"
   ]
  },
  {
   "cell_type": "code",
   "execution_count": 45,
   "id": "be6ecd86-4c5c-4a9d-b150-293ec2f718d5",
   "metadata": {},
   "outputs": [
    {
     "name": "stdout",
     "output_type": "stream",
     "text": [
      "0\n",
      "1\n",
      "2\n",
      "3\n"
     ]
    }
   ],
   "source": [
    "sequence = [0,1,2,3]\n",
    "for element in sequence:\n",
    "    print(element)"
   ]
  },
  {
   "cell_type": "markdown",
   "id": "7ba824ff-cc30-4a48-af6c-c03b56ac43ff",
   "metadata": {},
   "source": [
    "\n",
    "### En Python, la función enumerate() es una función incorporada que se utiliza para agregar un contador a un iterable y generar tuplas que contienen el índice y el valor de cada elemento del iterable.\n",
    "\n",
    "#### Iterando sobre elementos de una lista usando 'enumerate':"
   ]
  },
  {
   "cell_type": "code",
   "execution_count": 48,
   "id": "4bb5cd81-d062-4159-8717-c4974c61c951",
   "metadata": {},
   "outputs": [
    {
     "name": "stdout",
     "output_type": "stream",
     "text": [
      "0 apple\n",
      "1 banana\n",
      "2 orange\n"
     ]
    }
   ],
   "source": [
    "fruits = ['apple', 'banana', 'orange']\n",
    "\n",
    "for index, fruit in enumerate(fruits):\n",
    "    print(index, fruit)\n"
   ]
  },
  {
   "cell_type": "markdown",
   "id": "5f2f488b-f863-496d-ab7c-7cb0cdc69b8a",
   "metadata": {},
   "source": [
    "# While Statement"
   ]
  },
  {
   "cell_type": "code",
   "execution_count": 29,
   "id": "82fa184c-34fd-4586-bbdb-29b066480cbc",
   "metadata": {},
   "outputs": [
    {
     "name": "stdout",
     "output_type": "stream",
     "text": [
      "0\n",
      "1\n",
      "2\n",
      "3\n",
      "4\n"
     ]
    }
   ],
   "source": [
    "x = 0\n",
    "while x < 5:\n",
    "    print(x)\n",
    "    x += 1"
   ]
  },
  {
   "cell_type": "markdown",
   "id": "ac1db445-51fd-4e89-8dd8-5362735db045",
   "metadata": {},
   "source": [
    "# Call Expression"
   ]
  },
  {
   "cell_type": "code",
   "execution_count": 32,
   "id": "99e1b881-c595-4ec3-916f-34891101b312",
   "metadata": {},
   "outputs": [
    {
     "name": "stdout",
     "output_type": "stream",
     "text": [
      "Hello\n"
     ]
    }
   ],
   "source": [
    "def say_hello():\n",
    "    print(\"Hello\")\n",
    "\n",
    "# CALL\n",
    "say_hello()\n"
   ]
  },
  {
   "cell_type": "markdown",
   "id": "46945f95-7b48-4598-bbb9-b839622e182e",
   "metadata": {},
   "source": [
    "# Function Declaration"
   ]
  },
  {
   "cell_type": "code",
   "execution_count": 34,
   "id": "a0d97a68-5e2e-4af8-b2c8-411c8bedb19b",
   "metadata": {},
   "outputs": [
    {
     "name": "stdout",
     "output_type": "stream",
     "text": [
      "Hello, John\n"
     ]
    }
   ],
   "source": [
    "def greet(name):\n",
    "    print(\"Hello, \" + name)\n",
    "\n",
    "greet(\"John\")"
   ]
  },
  {
   "cell_type": "markdown",
   "id": "07120118-429a-47a6-9e62-09fe00e66f3b",
   "metadata": {},
   "source": [
    "# Return Statement"
   ]
  },
  {
   "cell_type": "code",
   "execution_count": 35,
   "id": "df9fd86d-c2e0-4691-8f5a-ca0635520d84",
   "metadata": {},
   "outputs": [
    {
     "name": "stdout",
     "output_type": "stream",
     "text": [
      "15\n"
     ]
    }
   ],
   "source": [
    "def add(a, b):\n",
    "    return a + b\n",
    "\n",
    "result = add(5, 10)\n",
    "print(result)"
   ]
  },
  {
   "cell_type": "markdown",
   "id": "b4c65ff9-1061-4cfa-b66b-273874bb1dba",
   "metadata": {},
   "source": [
    "# Array Expression"
   ]
  },
  {
   "cell_type": "code",
   "execution_count": 36,
   "id": "9d620f95-c4c5-4653-819d-edc42eabdfb0",
   "metadata": {},
   "outputs": [],
   "source": [
    "numbers = [1, 2, 3, 4, 5]"
   ]
  },
  {
   "cell_type": "markdown",
   "id": "fe618692-8e3a-477e-b358-27973c25360c",
   "metadata": {},
   "source": [
    "# Member Expression"
   ]
  },
  {
   "cell_type": "markdown",
   "id": "023779d1-0ca0-4fb4-b70d-f6b9f3071da3",
   "metadata": {},
   "source": [
    "#### Accede a un miembro (propiedad o método) de un objeto o un módulo utilizando la notación de puntos (por ejemplo, objeto.propiedad o módulo.función())."
   ]
  },
  {
   "cell_type": "code",
   "execution_count": 41,
   "id": "563f4cb0-419a-437f-830b-b6ac89e9e754",
   "metadata": {},
   "outputs": [
    {
     "name": "stdout",
     "output_type": "stream",
     "text": [
      "John\n"
     ]
    }
   ],
   "source": [
    "person = {\n",
    "    \"name\": \"John\",\n",
    "    \"age\": 30\n",
    "}\n",
    "\n",
    "# Member Expression\n",
    "print(person[\"name\"])"
   ]
  },
  {
   "cell_type": "markdown",
   "id": "adda4392-1218-4421-ba86-3f626cb17345",
   "metadata": {},
   "source": [
    "# Logical Expression"
   ]
  },
  {
   "cell_type": "code",
   "execution_count": 39,
   "id": "ce5ce593-2b93-4b90-8e88-8221d0c5c2a4",
   "metadata": {},
   "outputs": [],
   "source": [
    "x = True\n",
    "y = False\n",
    "result = x and y"
   ]
  },
  {
   "cell_type": "code",
   "execution_count": 40,
   "id": "06fa224a-cb06-47aa-9289-b96546ac1969",
   "metadata": {},
   "outputs": [
    {
     "data": {
      "text/plain": [
       "False"
      ]
     },
     "execution_count": 40,
     "metadata": {},
     "output_type": "execute_result"
    }
   ],
   "source": [
    "result"
   ]
  },
  {
   "cell_type": "code",
   "execution_count": null,
   "id": "852e0a0a-7578-479d-9af0-a9c2463f850a",
   "metadata": {},
   "outputs": [],
   "source": []
  }
 ],
 "metadata": {
  "kernelspec": {
   "display_name": "Python 3 (ipykernel)",
   "language": "python",
   "name": "python3"
  },
  "language_info": {
   "codemirror_mode": {
    "name": "ipython",
    "version": 3
   },
   "file_extension": ".py",
   "mimetype": "text/x-python",
   "name": "python",
   "nbconvert_exporter": "python",
   "pygments_lexer": "ipython3",
   "version": "3.10.9"
  }
 },
 "nbformat": 4,
 "nbformat_minor": 5
}
